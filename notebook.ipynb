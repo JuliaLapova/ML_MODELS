{
 "cells": [
  {
   "cell_type": "code",
   "execution_count": 1,
   "metadata": {},
   "outputs": [
    {
     "name": "stdout",
     "output_type": "stream",
     "text": [
      "Все библиотеки успешно установлены!\n"
     ]
    }
   ],
   "source": [
    "import torch\n",
    "import torchvision\n",
    "import matplotlib\n",
    "import onnxruntime\n",
    "import tensorboard\n",
    "print(\"Все библиотеки успешно установлены!\")\n"
   ]
  },
  {
   "cell_type": "code",
   "execution_count": 4,
   "metadata": {},
   "outputs": [
    {
     "name": "stdout",
     "output_type": "stream",
     "text": [
      "PyTorch версия: 2.5.1+cpu\n",
      "Torchvision версия: 0.20.1+cpu\n",
      "Matplotlib версия: 3.9.4\n",
      "ONNX Runtime версия: 1.19.2\n",
      "TensorBoard версия: 2.18.0\n",
      "CUDA недоступна. Используется CPU.\n"
     ]
    }
   ],
   "source": [
    "import torch\n",
    "import torchvision\n",
    "import matplotlib as plt\n",
    "import onnxruntime as ort\n",
    "import tensorboard\n",
    "\n",
    "print(\"PyTorch версия:\", torch.__version__)\n",
    "print(\"Torchvision версия:\", torchvision.__version__)\n",
    "print(\"Matplotlib версия:\", plt.__version__)\n",
    "print(\"ONNX Runtime версия:\", ort.__version__)\n",
    "print(\"TensorBoard версия:\", tensorboard.__version__)\n",
    "\n",
    "# Проверка доступности GPU\n",
    "if torch.cuda.is_available():\n",
    "    print(\"CUDA доступна. Используется GPU:\", torch.cuda.get_device_name(0))\n",
    "else:\n",
    "    print(\"CUDA недоступна. Используется CPU.\")"
   ]
  },
  {
   "cell_type": "code",
   "execution_count": 7,
   "metadata": {},
   "outputs": [],
   "source": [
    "import torchaudio"
   ]
  },
  {
   "cell_type": "code",
   "execution_count": 8,
   "metadata": {},
   "outputs": [
    {
     "name": "stdout",
     "output_type": "stream",
     "text": [
      ": 2.5.1+cpu\n"
     ]
    }
   ],
   "source": [
    "print(\":\", torchaudio.__version__)"
   ]
  },
  {
   "cell_type": "code",
   "execution_count": 5,
   "metadata": {},
   "outputs": [],
   "source": [
    "import ssl \n",
    "ssl._create_default_https_context = ssl._create_unverified_context"
   ]
  }
 ],
 "metadata": {
  "kernelspec": {
   "display_name": "ml_env",
   "language": "python",
   "name": "python3"
  },
  "language_info": {
   "codemirror_mode": {
    "name": "ipython",
    "version": 3
   },
   "file_extension": ".py",
   "mimetype": "text/x-python",
   "name": "python",
   "nbconvert_exporter": "python",
   "pygments_lexer": "ipython3",
   "version": "3.9.0"
  }
 },
 "nbformat": 4,
 "nbformat_minor": 2
}
